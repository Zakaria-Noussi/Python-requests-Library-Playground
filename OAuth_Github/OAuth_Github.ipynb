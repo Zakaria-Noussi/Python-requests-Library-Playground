{
 "cells": [
  {
   "cell_type": "code",
   "execution_count": 53,
   "metadata": {},
   "outputs": [
    {
     "name": "stdout",
     "output_type": "stream",
     "text": [
      " * Serving Flask app '__main__'\n",
      " * Debug mode: off\n"
     ]
    },
    {
     "name": "stderr",
     "output_type": "stream",
     "text": [
      "WARNING: This is a development server. Do not use it in a production deployment. Use a production WSGI server instead.\n",
      " * Running on http://127.0.0.1:5000\n",
      "Press CTRL+C to quit\n",
      "127.0.0.1 - - [07/Nov/2023 11:34:07] \"GET / HTTP/1.1\" 200 -\n",
      "127.0.0.1 - - [07/Nov/2023 11:34:10] \"GET /authorize?code=037e19393bfaede1b4ee HTTP/1.1\" 200 -\n",
      "127.0.0.1 - - [07/Nov/2023 11:34:32] \"GET / HTTP/1.1\" 200 -\n",
      "127.0.0.1 - - [07/Nov/2023 11:34:33] \"GET /authorize?code=164055a0477a111efad5 HTTP/1.1\" 200 -\n"
     ]
    }
   ],
   "source": [
    "from credentials import client_id, client_secret\n",
    "#from ipynb.fs.full.creds import client_id, client_secret\n",
    "from flask import Flask, request\n",
    "import requests as req\n",
    "\n",
    "app = Flask(__name__)\n",
    "\n",
    "@app.route('/')\n",
    "def index():\n",
    "    return f'<center><a href =\"https://github.com/login/oauth/authorize?client_id={client_id}\">Login with Github</a></center>'\n",
    "\n",
    "@app.route('/authorize')\n",
    "def authorize():\n",
    "    code = req.args.get('code')\n",
    "    return f'<h1>Success! The code is {code}</h1>'\n",
    "\n",
    "if __name__ == '__main__':\n",
    "    app.run()"
   ]
  }
 ],
 "metadata": {
  "kernelspec": {
   "display_name": "Python 3",
   "language": "python",
   "name": "python3"
  },
  "language_info": {
   "codemirror_mode": {
    "name": "ipython",
    "version": 3
   },
   "file_extension": ".py",
   "mimetype": "text/x-python",
   "name": "python",
   "nbconvert_exporter": "python",
   "pygments_lexer": "ipython3",
   "version": "3.10.12"
  }
 },
 "nbformat": 4,
 "nbformat_minor": 2
}
