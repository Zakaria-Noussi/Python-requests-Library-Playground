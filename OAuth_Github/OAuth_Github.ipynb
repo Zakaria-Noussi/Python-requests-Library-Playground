{
 "cells": [
  {
   "cell_type": "code",
   "execution_count": 5,
   "metadata": {},
   "outputs": [
    {
     "name": "stdout",
     "output_type": "stream",
     "text": [
      " * Serving Flask app '__main__'\n",
      " * Debug mode: off\n"
     ]
    },
    {
     "name": "stderr",
     "output_type": "stream",
     "text": [
      "WARNING: This is a development server. Do not use it in a production deployment. Use a production WSGI server instead.\n",
      " * Running on http://127.0.0.1:5000\n",
      "Press CTRL+C to quit\n"
     ]
    }
   ],
   "source": [
    "from credentials import client_id, client_secret\n",
    "#from ipynb.fs.full.creds import client_id, client_secret\n",
    "from flask import Flask, request\n",
    "import requests as req\n",
    "\n",
    "GITHUB_TOKEN_URL = 'https://github.com/login/oauth/access_token'\n",
    "BASE_URL = 'https://api.github.com'\n",
    "\n",
    "\n",
    "app = Flask(__name__)\n",
    "\n",
    "@app.route('/')\n",
    "def index():\n",
    "    return f'<center><a href =\"https://github.com/login/oauth/authorize?client_id={client_id}\">Login with Github</a></center>'\n",
    "\n",
    "@app.route('/authorize')\n",
    "def authorize():\n",
    "    code = req.args.get('code')\n",
    "    data = {'code' : code, 'client_id' : client_id, 'client_secret' : client_secret}\n",
    "    headers = {'Accept' : 'application/json'}\n",
    "    r = req.post(GITHUB_TOKEN_URL, data=data, headers=headers)\n",
    "    token = r.json()['access_token']\n",
    "    headers['Authorization'] = f'token {token}'\n",
    "    r2 = req.get(BASE_URL + '/user/repos', headers=headers)\n",
    "    print(r2.json()[0]['name'])\n",
    "    repos = r2.json()\n",
    "\n",
    "    list_of_repos = []\n",
    "    for repo in repos:\n",
    "        list_of_repos.append(repo['name'])\n",
    "\n",
    "    print(list_of_repos)\n",
    "\n",
    "    return '<br>'.join(list_of_repos)\n",
    "\n",
    "if __name__ == '__main__':\n",
    "    app.run()"
   ]
  }
 ],
 "metadata": {
  "kernelspec": {
   "display_name": "Python 3",
   "language": "python",
   "name": "python3"
  },
  "language_info": {
   "codemirror_mode": {
    "name": "ipython",
    "version": 3
   },
   "file_extension": ".py",
   "mimetype": "text/x-python",
   "name": "python",
   "nbconvert_exporter": "python",
   "pygments_lexer": "ipython3",
   "version": "3.10.12"
  }
 },
 "nbformat": 4,
 "nbformat_minor": 2
}
