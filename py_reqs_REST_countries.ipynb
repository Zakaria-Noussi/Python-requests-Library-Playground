{
 "cells": [
  {
   "cell_type": "code",
   "execution_count": 1,
   "metadata": {},
   "outputs": [],
   "source": [
    "import requests as req"
   ]
  },
  {
   "cell_type": "code",
   "execution_count": 2,
   "metadata": {},
   "outputs": [
    {
     "name": "stdout",
     "output_type": "stream",
     "text": [
      "<Response [200]>\n"
     ]
    }
   ],
   "source": [
    "url = 'https://restcountries.com/v2/all'\n",
    "r = req.get(url)\n",
    "print(r)"
   ]
  },
  {
   "cell_type": "code",
   "execution_count": 5,
   "metadata": {},
   "outputs": [
    {
     "name": "stdout",
     "output_type": "stream",
     "text": [
      "{'name': 'Afghanistan', 'topLevelDomain': ['.af'], 'alpha2Code': 'AF', 'alpha3Code': 'AFG', 'callingCodes': ['93'], 'capital': 'Kabul', 'altSpellings': ['AF', 'Afġānistān'], 'subregion': 'Southern Asia', 'region': 'Asia', 'population': 40218234, 'latlng': [33.0, 65.0], 'demonym': 'Afghan', 'area': 652230.0, 'timezones': ['UTC+04:30'], 'borders': ['IRN', 'PAK', 'TKM', 'UZB', 'TJK', 'CHN'], 'nativeName': 'افغانستان', 'numericCode': '004', 'flags': {'svg': 'https://upload.wikimedia.org/wikipedia/commons/5/5c/Flag_of_the_Taliban.svg', 'png': 'https://upload.wikimedia.org/wikipedia/commons/thumb/5/5c/Flag_of_the_Taliban.svg/320px-Flag_of_the_Taliban.svg.png'}, 'currencies': [{'code': 'AFN', 'name': 'Afghan afghani', 'symbol': '؋'}], 'languages': [{'iso639_1': 'ps', 'iso639_2': 'pus', 'name': 'Pashto', 'nativeName': 'پښتو'}, {'iso639_1': 'uz', 'iso639_2': 'uzb', 'name': 'Uzbek', 'nativeName': 'Oʻzbek'}, {'iso639_1': 'tk', 'iso639_2': 'tuk', 'name': 'Turkmen', 'nativeName': 'Türkmen'}], 'translations': {'br': 'Afghanistan', 'pt': 'Afeganistão', 'nl': 'Afghanistan', 'hr': 'Afganistan', 'fa': 'افغانستان', 'de': 'Afghanistan', 'es': 'Afganistán', 'fr': 'Afghanistan', 'ja': 'アフガニスタン', 'it': 'Afghanistan', 'hu': 'Afganisztán'}, 'flag': 'https://upload.wikimedia.org/wikipedia/commons/5/5c/Flag_of_the_Taliban.svg', 'regionalBlocs': [{'acronym': 'SAARC', 'name': 'South Asian Association for Regional Cooperation'}], 'cioc': 'AFG', 'independent': True}\n"
     ]
    }
   ],
   "source": [
    "data = r.json()\n",
    "first_country_data = data[0]\n",
    "print(first_country_data)"
   ]
  },
  {
   "cell_type": "code",
   "execution_count": 6,
   "metadata": {},
   "outputs": [
    {
     "name": "stdout",
     "output_type": "stream",
     "text": [
      "Afghanistan\n"
     ]
    }
   ],
   "source": [
    "name = first_country_data[\"name\"]\n",
    "print(name)"
   ]
  },
  {
   "cell_type": "code",
   "execution_count": 10,
   "metadata": {},
   "outputs": [
    {
     "name": "stdout",
     "output_type": "stream",
     "text": [
      "Name : Afghanistan\n",
      "Alpha2Code : AF\n",
      "Alpha3Code : AFG\n",
      "Capital : Kabul\n",
      "Region : Asia\n",
      "Population : 40218234\n"
     ]
    }
   ],
   "source": [
    "alpha2Code = first_country_data[\"alpha2Code\"]\n",
    "alpha3Code = first_country_data[\"alpha3Code\"]\n",
    "capital = first_country_data[\"capital\"]\n",
    "region = first_country_data[\"region\"]\n",
    "population = first_country_data[\"population\"]\n",
    "\n",
    "print(f\"Name : {name}\")\n",
    "print(f\"Alpha2Code : {alpha2Code}\\nAlpha3Code : {alpha3Code}\")\n",
    "print(f\"Capital : {capital}\\nRegion : {region}\\nPopulation : {population}\")"
   ]
  }
 ],
 "metadata": {
  "kernelspec": {
   "display_name": "Python 3",
   "language": "python",
   "name": "python3"
  },
  "language_info": {
   "codemirror_mode": {
    "name": "ipython",
    "version": 3
   },
   "file_extension": ".py",
   "mimetype": "text/x-python",
   "name": "python",
   "nbconvert_exporter": "python",
   "pygments_lexer": "ipython3",
   "version": "3.10.12"
  }
 },
 "nbformat": 4,
 "nbformat_minor": 2
}
