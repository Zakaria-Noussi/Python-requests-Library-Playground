{
 "cells": [
  {
   "cell_type": "code",
   "execution_count": 2,
   "metadata": {},
   "outputs": [],
   "source": [
    "import requests as req"
   ]
  },
  {
   "cell_type": "code",
   "execution_count": 3,
   "metadata": {},
   "outputs": [
    {
     "name": "stdout",
     "output_type": "stream",
     "text": [
      "<Response [200]>\n"
     ]
    }
   ],
   "source": [
    "url = 'https://restcountries.com/v2/all'\n",
    "r = req.get(url)\n",
    "print(r)"
   ]
  },
  {
   "cell_type": "code",
   "execution_count": 5,
   "metadata": {},
   "outputs": [
    {
     "name": "stdout",
     "output_type": "stream",
     "text": [
      "{'name': 'Afghanistan', 'topLevelDomain': ['.af'], 'alpha2Code': 'AF', 'alpha3Code': 'AFG', 'callingCodes': ['93'], 'capital': 'Kabul', 'altSpellings': ['AF', 'Afġānistān'], 'subregion': 'Southern Asia', 'region': 'Asia', 'population': 40218234, 'latlng': [33.0, 65.0], 'demonym': 'Afghan', 'area': 652230.0, 'timezones': ['UTC+04:30'], 'borders': ['IRN', 'PAK', 'TKM', 'UZB', 'TJK', 'CHN'], 'nativeName': 'افغانستان', 'numericCode': '004', 'flags': {'svg': 'https://upload.wikimedia.org/wikipedia/commons/5/5c/Flag_of_the_Taliban.svg', 'png': 'https://upload.wikimedia.org/wikipedia/commons/thumb/5/5c/Flag_of_the_Taliban.svg/320px-Flag_of_the_Taliban.svg.png'}, 'currencies': [{'code': 'AFN', 'name': 'Afghan afghani', 'symbol': '؋'}], 'languages': [{'iso639_1': 'ps', 'iso639_2': 'pus', 'name': 'Pashto', 'nativeName': 'پښتو'}, {'iso639_1': 'uz', 'iso639_2': 'uzb', 'name': 'Uzbek', 'nativeName': 'Oʻzbek'}, {'iso639_1': 'tk', 'iso639_2': 'tuk', 'name': 'Turkmen', 'nativeName': 'Türkmen'}], 'translations': {'br': 'Afghanistan', 'pt': 'Afeganistão', 'nl': 'Afghanistan', 'hr': 'Afganistan', 'fa': 'افغانستان', 'de': 'Afghanistan', 'es': 'Afganistán', 'fr': 'Afghanistan', 'ja': 'アフガニスタン', 'it': 'Afghanistan', 'hu': 'Afganisztán'}, 'flag': 'https://upload.wikimedia.org/wikipedia/commons/5/5c/Flag_of_the_Taliban.svg', 'regionalBlocs': [{'acronym': 'SAARC', 'name': 'South Asian Association for Regional Cooperation'}], 'cioc': 'AFG', 'independent': True}\n"
     ]
    }
   ],
   "source": [
    "data = r.json()\n",
    "first_country_data = data[0]\n",
    "print(first_country_data)"
   ]
  },
  {
   "cell_type": "code",
   "execution_count": 6,
   "metadata": {},
   "outputs": [
    {
     "name": "stdout",
     "output_type": "stream",
     "text": [
      "Afghanistan\n"
     ]
    }
   ],
   "source": [
    "name = first_country_data[\"name\"]\n",
    "print(name)"
   ]
  },
  {
   "cell_type": "code",
   "execution_count": 10,
   "metadata": {},
   "outputs": [
    {
     "name": "stdout",
     "output_type": "stream",
     "text": [
      "Name : Afghanistan\n",
      "Alpha2Code : AF\n",
      "Alpha3Code : AFG\n",
      "Capital : Kabul\n",
      "Region : Asia\n",
      "Population : 40218234\n"
     ]
    }
   ],
   "source": [
    "alpha2Code = first_country_data[\"alpha2Code\"]\n",
    "alpha3Code = first_country_data[\"alpha3Code\"]\n",
    "capital = first_country_data[\"capital\"]\n",
    "region = first_country_data[\"region\"]\n",
    "population = first_country_data[\"population\"]\n",
    "\n",
    "print(f\"Name : {name}\")\n",
    "print(f\"Alpha2Code : {alpha2Code}\\nAlpha3Code : {alpha3Code}\")\n",
    "print(f\"Capital : {capital}\\nRegion : {region}\\nPopulation : {population}\")"
   ]
  },
  {
   "cell_type": "code",
   "execution_count": 12,
   "metadata": {},
   "outputs": [
    {
     "name": "stdout",
     "output_type": "stream",
     "text": [
      "Total* numbers of countries in the world: 250\n"
     ]
    }
   ],
   "source": [
    "length_of_json = len(data)\n",
    "print(f\"Total* numbers of countries in the world: {length_of_json}\")"
   ]
  },
  {
   "cell_type": "code",
   "execution_count": 14,
   "metadata": {},
   "outputs": [
    {
     "name": "stdout",
     "output_type": "stream",
     "text": [
      "[{\"capital\":\"Reykjavík\",\"population\":366425,\"currencies\":[{\"code\":\"ISK\",\"name\":\"Icelandic króna\",\"symbol\":\"kr\"}],\"independent\":false}]\n"
     ]
    }
   ],
   "source": [
    "url2 = 'https://restcountries.com/v2/'\n",
    "payload = {'fields' : 'capital,currencies,population'}\n",
    "r2 = req.get(url2 + 'name/iceland', params = payload)\n",
    "print(r2.text)\n"
   ]
  },
  {
   "cell_type": "code",
   "execution_count": 15,
   "metadata": {},
   "outputs": [
    {
     "name": "stdout",
     "output_type": "stream",
     "text": [
      "[{\"capital\":\"Mariehamn\",\"population\":28875,\"currencies\":[{\"code\":\"EUR\",\"name\":\"Euro\",\"symbol\":\"€\"}],\"independent\":false},{\"capital\":\"Tirana\",\"population\":2837743,\"currencies\":[{\"code\":\"ALL\",\"name\":\"Albanian lek\",\"symbol\":\"L\"}],\"independent\":false},{\"capital\":\"Andorra la Vella\",\"population\":77265,\"currencies\":[{\"code\":\"EUR\",\"name\":\"Euro\",\"symbol\":\"€\"}],\"independent\":false},{\"capital\":\"Vienna\",\"population\":8917205,\"currencies\":[{\"code\":\"EUR\",\"name\":\"Euro\",\"symbol\":\"€\"}],\"independent\":false},{\"capital\":\"Minsk\",\"population\":9398861,\"currencies\":[{\"code\":\"BYN\",\"name\":\"New Belarusian ruble\",\"symbol\":\"Br\"},{\"code\":\"BYR\",\"name\":\"Old Belarusian ruble\",\"symbol\":\"Br\"}],\"independent\":false},{\"capital\":\"Brussels\",\"population\":11555997,\"currencies\":[{\"code\":\"EUR\",\"name\":\"Euro\",\"symbol\":\"€\"}],\"independent\":false},{\"capital\":\"Sarajevo\",\"population\":3280815,\"currencies\":[{\"code\":\"BAM\",\"name\":\"Bosnia and Herzegovina convertible mark\",\"symbol\":\"KM\"}],\"independent\":false},{\"capital\":\"Sofia\",\"population\":6927288,\"currencies\":[{\"code\":\"BGN\",\"name\":\"Bulgarian lev\",\"symbol\":\"лв\"}],\"independent\":false},{\"capital\":\"Zagreb\",\"population\":4047200,\"currencies\":[{\"code\":\"EUR\",\"name\":\"Euro\",\"symbol\":\"€\"}],\"independent\":false},{\"capital\":\"Nicosia\",\"population\":1207361,\"currencies\":[{\"code\":\"EUR\",\"name\":\"Euro\",\"symbol\":\"€\"}],\"independent\":false},{\"capital\":\"Prague\",\"population\":10698896,\"currencies\":[{\"code\":\"CZK\",\"name\":\"Czech koruna\",\"symbol\":\"Kč\"}],\"independent\":false},{\"capital\":\"Copenhagen\",\"population\":5831404,\"currencies\":[{\"code\":\"DKK\",\"name\":\"Danish krone\",\"symbol\":\"kr\"}],\"independent\":false},{\"capital\":\"Tallinn\",\"population\":1331057,\"currencies\":[{\"code\":\"EUR\",\"name\":\"Euro\",\"symbol\":\"€\"}],\"independent\":false},{\"capital\":\"Tórshavn\",\"population\":48865,\"currencies\":[{\"code\":\"DKK\",\"name\":\"Danish krone\",\"symbol\":\"kr\"},{\"code\":\"FOK\",\"name\":\"Faroese króna\",\"symbol\":\"kr\"}],\"independent\":false},{\"capital\":\"Helsinki\",\"population\":5530719,\"currencies\":[{\"code\":\"EUR\",\"name\":\"Euro\",\"symbol\":\"€\"}],\"independent\":false},{\"capital\":\"Paris\",\"population\":67391582,\"currencies\":[{\"code\":\"EUR\",\"name\":\"Euro\",\"symbol\":\"€\"}],\"independent\":false},{\"capital\":\"Berlin\",\"population\":83240525,\"currencies\":[{\"code\":\"EUR\",\"name\":\"Euro\",\"symbol\":\"€\"}],\"independent\":false},{\"capital\":\"Gibraltar\",\"population\":33691,\"currencies\":[{\"code\":\"GIP\",\"name\":\"Gibraltar pound\",\"symbol\":\"£\"}],\"independent\":false},{\"capital\":\"Athens\",\"population\":10715549,\"currencies\":[{\"code\":\"EUR\",\"name\":\"Euro\",\"symbol\":\"€\"}],\"independent\":false},{\"capital\":\"St. Peter Port\",\"population\":62999,\"currencies\":[{\"code\":\"GBP\",\"name\":\"British pound\",\"symbol\":\"£\"},{\"code\":\"GGP\",\"name\":\"Guernsey pound\",\"symbol\":\"£\"}],\"independent\":false},{\"capital\":\"Vatican City\",\"population\":451,\"currencies\":[{\"code\":\"EUR\",\"name\":\"Euro\",\"symbol\":\"€\"}],\"independent\":false},{\"capital\":\"Budapest\",\"population\":9749763,\"currencies\":[{\"code\":\"HUF\",\"name\":\"Hungarian forint\",\"symbol\":\"Ft\"}],\"independent\":false},{\"capital\":\"Reykjavík\",\"population\":366425,\"currencies\":[{\"code\":\"ISK\",\"name\":\"Icelandic króna\",\"symbol\":\"kr\"}],\"independent\":false},{\"capital\":\"Dublin\",\"population\":4994724,\"currencies\":[{\"code\":\"EUR\",\"name\":\"Euro\",\"symbol\":\"€\"}],\"independent\":false},{\"capital\":\"Douglas\",\"population\":85032,\"currencies\":[{\"code\":\"GBP\",\"name\":\"British pound\",\"symbol\":\"£\"},{\"code\":\"IMP[G]\",\"name\":\"Manx pound\",\"symbol\":\"£\"}],\"independent\":false},{\"capital\":\"Rome\",\"population\":59554023,\"currencies\":[{\"code\":\"EUR\",\"name\":\"Euro\",\"symbol\":\"€\"}],\"independent\":false},{\"capital\":\"Saint Helier\",\"population\":100800,\"currencies\":[{\"code\":\"GBP\",\"name\":\"British pound\",\"symbol\":\"£\"},{\"code\":\"JEP[G]\",\"name\":\"Jersey pound\",\"symbol\":\"£\"}],\"independent\":false},{\"capital\":\"Riga\",\"population\":1901548,\"currencies\":[{\"code\":\"EUR\",\"name\":\"Euro\",\"symbol\":\"€\"}],\"independent\":false},{\"capital\":\"Vaduz\",\"population\":38137,\"currencies\":[{\"code\":\"CHF\",\"name\":\"Swiss franc\",\"symbol\":\"Fr\"}],\"independent\":false},{\"capital\":\"Vilnius\",\"population\":2794700,\"currencies\":[{\"code\":\"EUR\",\"name\":\"Euro\",\"symbol\":\"€\"}],\"independent\":false},{\"capital\":\"Luxembourg\",\"population\":632275,\"currencies\":[{\"code\":\"EUR\",\"name\":\"Euro\",\"symbol\":\"€\"}],\"independent\":false},{\"capital\":\"Skopje\",\"population\":2083380,\"currencies\":[{\"code\":\"MKD\",\"name\":\"Macedonian denar\",\"symbol\":\"ден\"}],\"independent\":false},{\"capital\":\"Valletta\",\"population\":525285,\"currencies\":[{\"code\":\"EUR\",\"name\":\"Euro\",\"symbol\":\"€\"}],\"independent\":false},{\"capital\":\"Chișinău\",\"population\":2617820,\"currencies\":[{\"code\":\"MDL\",\"name\":\"Moldovan leu\",\"symbol\":\"L\"}],\"independent\":false},{\"capital\":\"Monaco\",\"population\":39244,\"currencies\":[{\"code\":\"EUR\",\"name\":\"Euro\",\"symbol\":\"€\"}],\"independent\":false},{\"capital\":\"Podgorica\",\"population\":621718,\"currencies\":[{\"code\":\"EUR\",\"name\":\"Euro\",\"symbol\":\"€\"}],\"independent\":false},{\"capital\":\"Amsterdam\",\"population\":17441139,\"currencies\":[{\"code\":\"EUR\",\"name\":\"Euro\",\"symbol\":\"€\"}],\"independent\":false},{\"capital\":\"Oslo\",\"population\":5379475,\"currencies\":[{\"code\":\"NOK\",\"name\":\"Norwegian krone\",\"symbol\":\"kr\"}],\"independent\":false},{\"capital\":\"Warsaw\",\"population\":37950802,\"currencies\":[{\"code\":\"PLN\",\"name\":\"Polish złoty\",\"symbol\":\"zł\"}],\"independent\":false},{\"capital\":\"Lisbon\",\"population\":10305564,\"currencies\":[{\"code\":\"EUR\",\"name\":\"Euro\",\"symbol\":\"€\"}],\"independent\":false},{\"capital\":\"Pristina\",\"population\":1775378,\"currencies\":[{\"code\":\"EUR\",\"name\":\"Euro\",\"symbol\":\"€\"}],\"independent\":false},{\"capital\":\"Bucharest\",\"population\":19286123,\"currencies\":[{\"code\":\"RON\",\"name\":\"Romanian leu\",\"symbol\":\"lei\"}],\"independent\":false},{\"capital\":\"Moscow\",\"population\":144104080,\"currencies\":[{\"code\":\"RUB\",\"name\":\"Russian ruble\",\"symbol\":\"₽\"}],\"independent\":false},{\"capital\":\"City of San Marino\",\"population\":33938,\"currencies\":[{\"code\":\"EUR\",\"name\":\"Euro\",\"symbol\":\"€\"}],\"independent\":false},{\"capital\":\"Belgrade\",\"population\":6908224,\"currencies\":[{\"code\":\"RSD\",\"name\":\"Serbian dinar\",\"symbol\":\"дин.\"}],\"independent\":false},{\"capital\":\"Bratislava\",\"population\":5458827,\"currencies\":[{\"code\":\"EUR\",\"name\":\"Euro\",\"symbol\":\"€\"}],\"independent\":false},{\"capital\":\"Ljubljana\",\"population\":2100126,\"currencies\":[{\"code\":\"EUR\",\"name\":\"Euro\",\"symbol\":\"€\"}],\"independent\":false},{\"capital\":\"Madrid\",\"population\":47351567,\"currencies\":[{\"code\":\"EUR\",\"name\":\"Euro\",\"symbol\":\"€\"}],\"independent\":false},{\"capital\":\"Longyearbyen\",\"population\":2562,\"currencies\":[{\"code\":\"NOK\",\"name\":\"Norwegian krone\",\"symbol\":\"kr\"}],\"independent\":false},{\"capital\":\"Stockholm\",\"population\":10353442,\"currencies\":[{\"code\":\"SEK\",\"name\":\"Swedish krona\",\"symbol\":\"kr\"}],\"independent\":false},{\"capital\":\"Bern\",\"population\":8636896,\"currencies\":[{\"code\":\"CHF\",\"name\":\"Swiss franc\",\"symbol\":\"Fr\"}],\"independent\":false},{\"capital\":\"Kyiv\",\"population\":44134693,\"currencies\":[{\"code\":\"UAH\",\"name\":\"Ukrainian hryvnia\",\"symbol\":\"₴\"}],\"independent\":false},{\"capital\":\"London\",\"population\":67215293,\"currencies\":[{\"code\":\"GBP\",\"name\":\"British pound\",\"symbol\":\"£\"}],\"independent\":false}]\n"
     ]
    }
   ],
   "source": [
    "r3 = req.get(url2 + 'region/Europe', params = payload)\n",
    "print(r3.text)\n"
   ]
  }
 ],
 "metadata": {
  "kernelspec": {
   "display_name": "Python 3",
   "language": "python",
   "name": "python3"
  },
  "language_info": {
   "codemirror_mode": {
    "name": "ipython",
    "version": 3
   },
   "file_extension": ".py",
   "mimetype": "text/x-python",
   "name": "python",
   "nbconvert_exporter": "python",
   "pygments_lexer": "ipython3",
   "version": "3.10.12"
  }
 },
 "nbformat": 4,
 "nbformat_minor": 2
}
